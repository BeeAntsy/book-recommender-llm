{
 "cells": [
  {
   "cell_type": "code",
   "id": "initial_id",
   "metadata": {
    "collapsed": true,
    "ExecuteTime": {
     "end_time": "2025-05-30T08:49:48.131434Z",
     "start_time": "2025-05-30T08:49:48.128344Z"
    }
   },
   "source": [
    "from langchain_community.document_loaders import TextLoader     #converts text into langchain compatible format\n",
    "from langchain_text_splitters import CharacterTextSplitter      #splits whole document into meaningful chunks, in this case descriptions\n",
    "from langchain_openai import OpenAIEmbeddings                   #handles the creation of vectorised embedings of description chunks\n",
    "from langchain_chroma import Chroma                             #stores embedings in a vector database"
   ],
   "outputs": [],
   "execution_count": 2
  },
  {
   "metadata": {},
   "cell_type": "code",
   "outputs": [],
   "execution_count": null,
   "source": "#SETUP dotenv TO IMPORT API KEYS HERE",
   "id": "ee98091cc6ca454d"
  }
 ],
 "metadata": {
  "kernelspec": {
   "display_name": "Python 3",
   "language": "python",
   "name": "python3"
  },
  "language_info": {
   "codemirror_mode": {
    "name": "ipython",
    "version": 2
   },
   "file_extension": ".py",
   "mimetype": "text/x-python",
   "name": "python",
   "nbconvert_exporter": "python",
   "pygments_lexer": "ipython2",
   "version": "2.7.6"
  }
 },
 "nbformat": 4,
 "nbformat_minor": 5
}
