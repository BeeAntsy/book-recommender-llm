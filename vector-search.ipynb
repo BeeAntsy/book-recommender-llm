{
 "cells": [
  {
   "cell_type": "code",
   "id": "initial_id",
   "metadata": {
    "collapsed": true,
    "ExecuteTime": {
     "end_time": "2025-05-30T08:49:48.131434Z",
     "start_time": "2025-05-30T08:49:48.128344Z"
    }
   },
   "source": [
    "from langchain_community.document_loaders import TextLoader     #converts text into langchain compatible format\n",
    "from langchain_text_splitters import CharacterTextSplitter      #splits whole document into meaningful chunks, in this case descriptions\n",
    "from langchain_openai import OpenAIEmbeddings                   #handles the creation of vectorised embedings of description chunks\n",
    "from langchain_chroma import Chroma                             #stores embedings in a vector database"
   ],
   "outputs": [],
   "execution_count": 2
  },
  {
   "metadata": {},
   "cell_type": "code",
   "outputs": [],
   "execution_count": null,
   "source": "#SETUP dotenv TO IMPORT API KEYS HERE",
   "id": "ee98091cc6ca454d"
  },
  {
   "metadata": {
    "ExecuteTime": {
     "end_time": "2025-05-30T09:27:21.224769Z",
     "start_time": "2025-05-30T09:27:21.135238Z"
    }
   },
   "cell_type": "code",
   "source": [
    "import pandas as pd\n",
    "#importing the nice and clean dataset\n",
    "books = pd.read_csv('books_cleaned.csv')"
   ],
   "id": "70ce52e84554a753",
   "outputs": [],
   "execution_count": 3
  },
  {
   "metadata": {
    "ExecuteTime": {
     "end_time": "2025-05-30T09:28:00.814380Z",
     "start_time": "2025-05-30T09:28:00.809394Z"
    }
   },
   "cell_type": "code",
   "source": "books[\"tagged_description\"]",
   "id": "491b7ad5d29f6964",
   "outputs": [
    {
     "data": {
      "text/plain": [
       "0       9780002005883 A NOVEL THAT READERS and critics...\n",
       "1       9780002261982 A new 'Christie for Christmas' -...\n",
       "2       9780006178736 A memorable, mesmerizing heroine...\n",
       "3       9780006280897 Lewis' work on the nature of lov...\n",
       "4       9780006280934 \"In The Problem of Pain, C.S. Le...\n",
       "                              ...                        \n",
       "5192    9788172235222 On A Train Journey Home To North...\n",
       "5193    9788173031014 This book tells the tale of a ma...\n",
       "5194    9788179921623 Wisdom to Create a Life of Passi...\n",
       "5195    9788185300535 This collection of the timeless ...\n",
       "5196    9789027712059 Since the three volume edition o...\n",
       "Name: tagged_description, Length: 5197, dtype: object"
      ]
     },
     "execution_count": 5,
     "metadata": {},
     "output_type": "execute_result"
    }
   ],
   "execution_count": 5
  },
  {
   "metadata": {
    "ExecuteTime": {
     "end_time": "2025-05-30T09:36:31.340006Z",
     "start_time": "2025-05-30T09:36:31.294312Z"
    }
   },
   "cell_type": "code",
   "source": [
    "#langchain cannot access information in a pandas dataframe\n",
    "books[\"tagged_description\"].to_csv(\"tagged_description.txt\",\n",
    "                                   sep=\"\\n\",\n",
    "                                   index=False,\n",
    "                                   header=False)\n",
    "#this will save the tagged descriptions into a langchain compatible txt file"
   ],
   "id": "397d24730b2f4427",
   "outputs": [],
   "execution_count": 8
  }
 ],
 "metadata": {
  "kernelspec": {
   "display_name": "Python 3",
   "language": "python",
   "name": "python3"
  },
  "language_info": {
   "codemirror_mode": {
    "name": "ipython",
    "version": 2
   },
   "file_extension": ".py",
   "mimetype": "text/x-python",
   "name": "python",
   "nbconvert_exporter": "python",
   "pygments_lexer": "ipython2",
   "version": "2.7.6"
  }
 },
 "nbformat": 4,
 "nbformat_minor": 5
}
